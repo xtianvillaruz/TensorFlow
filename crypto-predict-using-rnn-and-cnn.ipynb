{
 "cells": [
  {
   "cell_type": "markdown",
   "metadata": {
    "_cell_guid": "79c7e3d0-c299-4dcb-8224-4455121ee9b0",
    "_uuid": "d629ff2d2480ee46fbb7e2d37f6b5fab8052498a",
    "collapsed": true
   },
   "source": [
    "# Cryptocurrency Predict using Recurrent Neural Network(RNN) and Convolutional Neural Network(CNN)\n",
    "This code is from [pythonprogramming.net](https://pythonprogramming.net/cryptocurrency-recurrent-neural-network-deep-learning-python-tensorflow-keras/) tutorial.\n",
    "\n",
    "Using Recurrent Neural Network (RNN) and Convolutional Neural Network (CNN), this code will predict the price movement of  Bitcoin, Ethereum, Litecoin and Bitcoin Cash cryptocurrency data. The target output will be a binary of **0** for price increase and **1** for price decrease. Also, this code will show the performace of RNN vs CNN."
   ]
  },
  {
   "cell_type": "code",
   "execution_count": 1,
   "metadata": {
    "_uuid": "8aa695e73c7ca09198a4d2ef06574955b052204a"
   },
   "outputs": [],
   "source": [
    "import numpy as np\n",
    "import pandas as pd\n",
    "import random\n",
    "import time\n",
    "from collections import deque\n",
    "from sklearn import preprocessing"
   ]
  },
  {
   "cell_type": "code",
   "execution_count": 2,
   "metadata": {
    "_uuid": "2a81995e5dc663e05d1be209f065671b4b48765d"
   },
   "outputs": [],
   "source": [
    "import tensorflow as tf\n",
    "from tensorflow.keras.models import Sequential\n",
    "from tensorflow.keras.layers import Dense, Dropout, LSTM, CuDNNLSTM, BatchNormalization\n",
    "from tensorflow.keras.layers import Activation, Flatten, Conv1D, MaxPooling1D\n",
    "from tensorflow.keras.callbacks import TensorBoard, ModelCheckpoint"
   ]
  },
  {
   "cell_type": "markdown",
   "metadata": {
    "_uuid": "841fd0ca64f9eced229b935971d9fb595a749921"
   },
   "source": [
    "## Data"
   ]
  },
  {
   "cell_type": "code",
   "execution_count": 3,
   "metadata": {
    "_uuid": "be758a98ba6f8674faa19de2241c4f37796017d6"
   },
   "outputs": [
    {
     "data": {
      "text/html": [
       "<div>\n",
       "<style scoped>\n",
       "    .dataframe tbody tr th:only-of-type {\n",
       "        vertical-align: middle;\n",
       "    }\n",
       "\n",
       "    .dataframe tbody tr th {\n",
       "        vertical-align: top;\n",
       "    }\n",
       "\n",
       "    .dataframe thead th {\n",
       "        text-align: right;\n",
       "    }\n",
       "</style>\n",
       "<table border=\"1\" class=\"dataframe\">\n",
       "  <thead>\n",
       "    <tr style=\"text-align: right;\">\n",
       "      <th></th>\n",
       "      <th>time</th>\n",
       "      <th>low</th>\n",
       "      <th>high</th>\n",
       "      <th>open</th>\n",
       "      <th>close</th>\n",
       "      <th>volume</th>\n",
       "    </tr>\n",
       "  </thead>\n",
       "  <tbody>\n",
       "    <tr>\n",
       "      <th>0</th>\n",
       "      <td>1528968660</td>\n",
       "      <td>96.580002</td>\n",
       "      <td>96.589996</td>\n",
       "      <td>96.589996</td>\n",
       "      <td>96.580002</td>\n",
       "      <td>9.647200</td>\n",
       "    </tr>\n",
       "    <tr>\n",
       "      <th>1</th>\n",
       "      <td>1528968720</td>\n",
       "      <td>96.449997</td>\n",
       "      <td>96.669998</td>\n",
       "      <td>96.589996</td>\n",
       "      <td>96.660004</td>\n",
       "      <td>314.387024</td>\n",
       "    </tr>\n",
       "    <tr>\n",
       "      <th>2</th>\n",
       "      <td>1528968780</td>\n",
       "      <td>96.470001</td>\n",
       "      <td>96.570000</td>\n",
       "      <td>96.570000</td>\n",
       "      <td>96.570000</td>\n",
       "      <td>77.129799</td>\n",
       "    </tr>\n",
       "    <tr>\n",
       "      <th>3</th>\n",
       "      <td>1528968840</td>\n",
       "      <td>96.449997</td>\n",
       "      <td>96.570000</td>\n",
       "      <td>96.570000</td>\n",
       "      <td>96.500000</td>\n",
       "      <td>7.216067</td>\n",
       "    </tr>\n",
       "    <tr>\n",
       "      <th>4</th>\n",
       "      <td>1528968900</td>\n",
       "      <td>96.279999</td>\n",
       "      <td>96.540001</td>\n",
       "      <td>96.500000</td>\n",
       "      <td>96.389999</td>\n",
       "      <td>524.539978</td>\n",
       "    </tr>\n",
       "  </tbody>\n",
       "</table>\n",
       "</div>"
      ],
      "text/plain": [
       "         time        low     ...          close      volume\n",
       "0  1528968660  96.580002     ...      96.580002    9.647200\n",
       "1  1528968720  96.449997     ...      96.660004  314.387024\n",
       "2  1528968780  96.470001     ...      96.570000   77.129799\n",
       "3  1528968840  96.449997     ...      96.500000    7.216067\n",
       "4  1528968900  96.279999     ...      96.389999  524.539978\n",
       "\n",
       "[5 rows x 6 columns]"
      ]
     },
     "execution_count": 3,
     "metadata": {},
     "output_type": "execute_result"
    }
   ],
   "source": [
    "df = pd.read_csv(\"../input/LTC-USD.csv\", names = ['time','low','high','open','close','volume'])\n",
    "\n",
    "df.head()"
   ]
  },
  {
   "cell_type": "code",
   "execution_count": 4,
   "metadata": {
    "_uuid": "03da625e3a5d096237818925e96f6938363c7acc"
   },
   "outputs": [
    {
     "data": {
      "text/plain": [
       "(101883, 6)"
      ]
     },
     "execution_count": 4,
     "metadata": {},
     "output_type": "execute_result"
    }
   ],
   "source": [
    "df.shape"
   ]
  },
  {
   "cell_type": "code",
   "execution_count": 5,
   "metadata": {
    "_uuid": "0110b9a6345da844bb9d59ffe283fa022c58d54f"
   },
   "outputs": [
    {
     "name": "stdout",
     "output_type": "stream",
     "text": [
      "<class 'pandas.core.frame.DataFrame'>\n",
      "RangeIndex: 101883 entries, 0 to 101882\n",
      "Data columns (total 6 columns):\n",
      "time      101883 non-null int64\n",
      "low       101883 non-null float64\n",
      "high      101883 non-null float64\n",
      "open      101883 non-null float64\n",
      "close     101883 non-null float64\n",
      "volume    101883 non-null float64\n",
      "dtypes: float64(5), int64(1)\n",
      "memory usage: 4.7 MB\n"
     ]
    }
   ],
   "source": [
    "df.info()"
   ]
  },
  {
   "cell_type": "code",
   "execution_count": 6,
   "metadata": {
    "_uuid": "714fe2d1aab4831b5419001ceb2c639dec42e7ff"
   },
   "outputs": [
    {
     "data": {
      "text/plain": [
       "Index(['time', 'low', 'high', 'open', 'close', 'volume'], dtype='object')"
      ]
     },
     "execution_count": 6,
     "metadata": {},
     "output_type": "execute_result"
    }
   ],
   "source": [
    "df.columns"
   ]
  },
  {
   "cell_type": "markdown",
   "metadata": {
    "_uuid": "1f1f5a21eb29c176358fd2b2899f98e8eb214afc"
   },
   "source": [
    "## Parameters\n",
    "\n",
    "A sequence lenght of 60 minutes data will be collected to be feed into the model and will predict the futere in 3 minute time."
   ]
  },
  {
   "cell_type": "code",
   "execution_count": 7,
   "metadata": {
    "_uuid": "29841116638193c674594d56ffb6e08d3cb6d96b"
   },
   "outputs": [],
   "source": [
    "SEQ_LEN = 60\n",
    "FUTURE_PERIOD_PREDICT = 3\n",
    "RATIO_TO_PREDICT = 'LTC-USD'"
   ]
  },
  {
   "cell_type": "markdown",
   "metadata": {
    "_uuid": "5912cfd5f5c1f57b771bf16617148fe19ba8f86a"
   },
   "source": [
    "## Classify Target"
   ]
  },
  {
   "cell_type": "code",
   "execution_count": 8,
   "metadata": {
    "_uuid": "b90117899d46fd062b58897f3f3ce6dd4d120172"
   },
   "outputs": [],
   "source": [
    "def classify (current, future):\n",
    "    if float(future) > float(current):\n",
    "        return 1\n",
    "    else:\n",
    "        return 0"
   ]
  },
  {
   "cell_type": "markdown",
   "metadata": {
    "_uuid": "6f3a6c6c8eb8c745f3014692bf799a695dc744cf"
   },
   "source": [
    "## Preprocessing Data"
   ]
  },
  {
   "cell_type": "code",
   "execution_count": 9,
   "metadata": {
    "_uuid": "343beaacd8eb299b533aa789c2658fa18dca7da5"
   },
   "outputs": [],
   "source": [
    "def preprocess_df(df):\n",
    "    df = df.drop('future', 1)\n",
    "    \n",
    "    for col in df.columns:\n",
    "        if col != 'target':\n",
    "            df[col] = df[col].pct_change()\n",
    "            df.dropna(inplace=True)\n",
    "            df[col] = preprocessing.scale(df[col].values)\n",
    "    df.dropna(inplace=True)\n",
    "    \n",
    "    sequential_data = []\n",
    "    prev_days = deque(maxlen=SEQ_LEN)\n",
    "    \n",
    "    for i in df.values:\n",
    "        prev_days.append([n for n in i[:-1]])\n",
    "        if len(prev_days) == SEQ_LEN:\n",
    "            sequential_data.append([np.array(prev_days), i[-1]])\n",
    "    random.shuffle(sequential_data)\n",
    "    \n",
    "    buys = []\n",
    "    sells = []\n",
    "    \n",
    "    for seq, target in sequential_data:\n",
    "        if target == 0:\n",
    "            sells.append([seq, target])\n",
    "        elif target == 1:\n",
    "            buys.append([seq, target])\n",
    "    random.shuffle(buys)\n",
    "    random.shuffle(sells)\n",
    "    \n",
    "    lower = min(len(buys), len(sells))\n",
    "    buys = buys[:lower]\n",
    "    sells = sells[:lower]\n",
    "    \n",
    "    sequential_data = buys + sells\n",
    "    random.shuffle(sequential_data)\n",
    "    \n",
    "    X = []\n",
    "    y = []\n",
    "    \n",
    "    for seq, target in sequential_data:\n",
    "        X.append(seq)\n",
    "        y.append(target)\n",
    "        \n",
    "    return np.array(X), y"
   ]
  },
  {
   "cell_type": "markdown",
   "metadata": {
    "_uuid": "3368a1b00a00923b4b2ef6085869fc04bbfc96aa"
   },
   "source": [
    "## Build the Dataframe for data training and validation"
   ]
  },
  {
   "cell_type": "code",
   "execution_count": 10,
   "metadata": {
    "_uuid": "389f469442110def0838ac3a2de7ce396ceaa093"
   },
   "outputs": [],
   "source": [
    "main_df = pd.DataFrame()\n",
    "ratios = ['LTC-USD', 'BCH-USD', 'BTC-USD', 'ETH-USD'] \n",
    "\n",
    "for ratio in ratios:\n",
    "    ratio = ratio.split('.csv')[0]\n",
    "    dataset = f'../input/{ratio}.csv'\n",
    "    df = pd.read_csv(dataset, names=['time','low','high','open','close','volume'])\n",
    "    df.rename(columns={'close':f'{ratio}_close','volume':f'{ratio}_volume'}, inplace=True)\n",
    "    df.set_index('time', inplace=True)\n",
    "    df = df[[f'{ratio}_close',f'{ratio}_volume']]\n",
    "    \n",
    "    if len(main_df) == 0:\n",
    "        main_df = df\n",
    "    else:\n",
    "        main_df = main_df.join(df)\n",
    "        "
   ]
  },
  {
   "cell_type": "code",
   "execution_count": 11,
   "metadata": {
    "_uuid": "c81b1601d33a6d92b79c052a3d7b620ab2f6ac03"
   },
   "outputs": [
    {
     "name": "stdout",
     "output_type": "stream",
     "text": [
      "            LTC-USD_close       ...        ETH-USD_volume\n",
      "time                            ...                      \n",
      "1528968720      96.660004       ...             26.019083\n",
      "1528968780      96.570000       ...              8.449400\n",
      "1528968840      96.500000       ...             26.994646\n",
      "1528968900      96.389999       ...             77.355759\n",
      "1528968960      96.519997       ...              7.503300\n",
      "\n",
      "[5 rows x 8 columns]\n"
     ]
    }
   ],
   "source": [
    "main_df.fillna(method='ffill', inplace=True)\n",
    "main_df.dropna(inplace=True)\n",
    "print(main_df.head())"
   ]
  },
  {
   "cell_type": "code",
   "execution_count": 12,
   "metadata": {
    "_uuid": "851153d9c26aad8340be247aec0855987b8351aa"
   },
   "outputs": [
    {
     "name": "stdout",
     "output_type": "stream",
     "text": [
      "            LTC-USD_close  LTC-USD_volume   ...       future  target\n",
      "time                                        ...                     \n",
      "1528968720      96.660004      314.387024   ...    96.389999       0\n",
      "1528968780      96.570000       77.129799   ...    96.519997       0\n",
      "1528968840      96.500000        7.216067   ...    96.440002       0\n",
      "1528968900      96.389999      524.539978   ...    96.470001       1\n",
      "1528968960      96.519997       16.991997   ...    96.400002       0\n",
      "\n",
      "[5 rows x 10 columns]\n"
     ]
    }
   ],
   "source": [
    "main_df['future'] = main_df[f'{RATIO_TO_PREDICT}_close'].shift(-FUTURE_PERIOD_PREDICT)\n",
    "main_df['target'] = list(map(classify, main_df[f'{RATIO_TO_PREDICT}_close'],main_df['future']))\n",
    "main_df.dropna(inplace=True)\n",
    "print(main_df.head())"
   ]
  },
  {
   "cell_type": "code",
   "execution_count": 13,
   "metadata": {
    "_uuid": "fe4b09a62f43b28101e524b48eb0700d9c2a4fcf"
   },
   "outputs": [
    {
     "name": "stdout",
     "output_type": "stream",
     "text": [
      "<module 'time' (built-in)>\n",
      "1534902300\n"
     ]
    }
   ],
   "source": [
    "times = sorted(main_df.index.values)\n",
    "last_5pct = sorted(main_df.index.values)[-int(0.05*len(times))]\n",
    "\n",
    "print(time)\n",
    "print(last_5pct)"
   ]
  },
  {
   "cell_type": "code",
   "execution_count": 14,
   "metadata": {
    "_uuid": "cdacdd680c9011af839f6799b9bac1d11d4085ef"
   },
   "outputs": [
    {
     "name": "stdout",
     "output_type": "stream",
     "text": [
      "            LTC-USD_close  LTC-USD_volume   ...       future  target\n",
      "time                                        ...                     \n",
      "1534902300      58.180000      380.746002   ...    58.279999       1\n",
      "1534902360      58.259998       56.717766   ...    58.259998       0\n",
      "1534902420      58.400002      702.115906   ...    58.150002       0\n",
      "1534902480      58.279999      247.673599   ...    58.160000       0\n",
      "1534902540      58.259998      243.763382   ...    58.189999       0\n",
      "\n",
      "[5 rows x 10 columns]\n",
      "            LTC-USD_close  LTC-USD_volume   ...       future  target\n",
      "time                                        ...                     \n",
      "1528968720      96.660004      314.387024   ...    96.389999       0\n",
      "1528968780      96.570000       77.129799   ...    96.519997       0\n",
      "1528968840      96.500000        7.216067   ...    96.440002       0\n",
      "1528968900      96.389999      524.539978   ...    96.470001       1\n",
      "1528968960      96.519997       16.991997   ...    96.400002       0\n",
      "\n",
      "[5 rows x 10 columns]\n"
     ]
    }
   ],
   "source": [
    "validation_main_df = main_df[(main_df.index >= last_5pct)]\n",
    "train_main_df = main_df[(main_df.index < last_5pct)]\n",
    "\n",
    "print(validation_main_df.head())\n",
    "print(train_main_df.head())"
   ]
  },
  {
   "cell_type": "code",
   "execution_count": 15,
   "metadata": {
    "_uuid": "b7a20812b90bee616e99bdb0130903a4266c81b2"
   },
   "outputs": [],
   "source": [
    "train_x, train_y = preprocess_df(train_main_df)\n",
    "validation_x, validation_y = preprocess_df(validation_main_df)"
   ]
  },
  {
   "cell_type": "code",
   "execution_count": 16,
   "metadata": {
    "_uuid": "eb5ea83981a3596b4c1bd91e9afc95cbb21eee21"
   },
   "outputs": [
    {
     "name": "stdout",
     "output_type": "stream",
     "text": [
      "train data: 81638 validation: 4022\n",
      "Dont buys: 40819, buys: 40819\n",
      "VALIDATION Dont buys: 2011, buys: 2011\n"
     ]
    }
   ],
   "source": [
    "print(f\"train data: {len(train_x)} validation: {len(validation_x)}\")\n",
    "print(f\"Dont buys: {train_y.count(0)}, buys: {train_y.count(1)}\")\n",
    "print(f\"VALIDATION Dont buys: {validation_y.count(0)}, buys: {validation_y.count(1)}\")"
   ]
  },
  {
   "cell_type": "code",
   "execution_count": 17,
   "metadata": {
    "_uuid": "d73da5b0456f7a5641cf58ea328a3ba5c12645ff"
   },
   "outputs": [
    {
     "name": "stdout",
     "output_type": "stream",
     "text": [
      "(60, 8)\n"
     ]
    }
   ],
   "source": [
    "print(train_x.shape[1:])"
   ]
  },
  {
   "cell_type": "markdown",
   "metadata": {
    "_uuid": "40ebfd4aeb31b97f77dc617ed3fe120f3edd3a72"
   },
   "source": [
    "## RNN Model"
   ]
  },
  {
   "cell_type": "code",
   "execution_count": 18,
   "metadata": {
    "_uuid": "0c94270a9ea4c16f55ae4c97569eeab98ef5df4d"
   },
   "outputs": [],
   "source": [
    "EPOCHS = 10\n",
    "BATCH_SIZE = 64\n",
    "NAME = f'{SEQ_LEN}-SEQ-{FUTURE_PERIOD_PREDICT}-PRED-{int(time.time())}'"
   ]
  },
  {
   "cell_type": "code",
   "execution_count": 19,
   "metadata": {
    "_uuid": "f99c6a76871f8e38d6cae2462ab974dd01487a0b"
   },
   "outputs": [],
   "source": [
    "rnn_model = Sequential()\n",
    "\n",
    "rnn_model.add(CuDNNLSTM(128, input_shape=(train_x.shape[1:]),return_sequences=True))\n",
    "rnn_model.add(Dropout(0.2))\n",
    "rnn_model.add(BatchNormalization())\n",
    "\n",
    "rnn_model.add(CuDNNLSTM(128,return_sequences=True))\n",
    "rnn_model.add(Dropout(0.1))\n",
    "rnn_model.add(BatchNormalization())\n",
    "\n",
    "rnn_model.add(CuDNNLSTM(128))\n",
    "rnn_model.add(Dropout(0.2))\n",
    "rnn_model.add(BatchNormalization())\n",
    "\n",
    "rnn_model.add(Dense(32, activation='relu'))\n",
    "rnn_model.add(Dropout(0.2))\n",
    "\n",
    "rnn_model.add(Dense(2, activation='softmax'))"
   ]
  },
  {
   "cell_type": "code",
   "execution_count": 20,
   "metadata": {
    "_uuid": "e7326bb455bfaf85170deab186f4fba9593243fa"
   },
   "outputs": [],
   "source": [
    "opt = tf.keras.optimizers.Adam(lr=0.001, decay=1e-6)"
   ]
  },
  {
   "cell_type": "code",
   "execution_count": 21,
   "metadata": {
    "_uuid": "d1a71370d4d3550567256d3cb0191759f0cbefa7"
   },
   "outputs": [],
   "source": [
    "rnn_model.compile(loss='sparse_categorical_crossentropy',\n",
    "              optimizer=opt,\n",
    "              metrics=['accuracy'])"
   ]
  },
  {
   "cell_type": "code",
   "execution_count": 22,
   "metadata": {
    "_uuid": "3fc10e46a7301b7789367e741d58488aa61d41a5"
   },
   "outputs": [],
   "source": [
    "tensorboard = TensorBoard(log_dir='../{}'.format(NAME))\n",
    "\n",
    "filepath = 'RNN_Final-{epoch:02d}-{val_acc:.3f}'\n",
    "checkpoint = ModelCheckpoint('../{}.model'.format(filepath, monitor='val-acc', verbose=1, save_best_only=True, mode='max'))\n"
   ]
  },
  {
   "cell_type": "code",
   "execution_count": 23,
   "metadata": {
    "_uuid": "f489de16f6043ccdbc006fcfa5f1120fa617149d"
   },
   "outputs": [
    {
     "name": "stdout",
     "output_type": "stream",
     "text": [
      "Train on 81638 samples, validate on 4022 samples\n",
      "Epoch 1/10\n",
      "81638/81638 [==============================] - 25s 308us/step - loss: 0.7055 - acc: 0.5261 - val_loss: 0.6857 - val_acc: 0.5587\n",
      "Epoch 2/10\n",
      "81638/81638 [==============================] - 22s 273us/step - loss: 0.6853 - acc: 0.5504 - val_loss: 0.6767 - val_acc: 0.5743\n",
      "Epoch 3/10\n",
      "81638/81638 [==============================] - 22s 273us/step - loss: 0.6810 - acc: 0.5638 - val_loss: 0.6776 - val_acc: 0.5845\n",
      "Epoch 4/10\n",
      "81638/81638 [==============================] - 22s 275us/step - loss: 0.6798 - acc: 0.5668 - val_loss: 0.6777 - val_acc: 0.5748\n",
      "Epoch 5/10\n",
      "81638/81638 [==============================] - 23s 281us/step - loss: 0.6781 - acc: 0.5716 - val_loss: 0.6739 - val_acc: 0.5801\n",
      "Epoch 6/10\n",
      "81638/81638 [==============================] - 22s 275us/step - loss: 0.6756 - acc: 0.5771 - val_loss: 0.6789 - val_acc: 0.5671\n",
      "Epoch 7/10\n",
      "81638/81638 [==============================] - 22s 274us/step - loss: 0.6719 - acc: 0.5853 - val_loss: 0.6773 - val_acc: 0.5636\n",
      "Epoch 8/10\n",
      "81638/81638 [==============================] - 23s 287us/step - loss: 0.6665 - acc: 0.5927 - val_loss: 0.6797 - val_acc: 0.5709\n",
      "Epoch 9/10\n",
      "81638/81638 [==============================] - 23s 284us/step - loss: 0.6606 - acc: 0.6036 - val_loss: 0.6852 - val_acc: 0.5656\n",
      "Epoch 10/10\n",
      "81638/81638 [==============================] - 23s 276us/step - loss: 0.6508 - acc: 0.6173 - val_loss: 0.6795 - val_acc: 0.5781\n"
     ]
    }
   ],
   "source": [
    "history = rnn_model.fit(train_x, train_y,\n",
    "                    batch_size=BATCH_SIZE,\n",
    "                    epochs=EPOCHS,\n",
    "                    validation_data=(validation_x, validation_y),\n",
    "                    callbacks = [tensorboard, checkpoint])"
   ]
  },
  {
   "cell_type": "code",
   "execution_count": 24,
   "metadata": {
    "_uuid": "9c5a33835dcb33c1d820d132cc7b2bf3d1069565"
   },
   "outputs": [
    {
     "name": "stdout",
     "output_type": "stream",
     "text": [
      "Test loss: 0.6795175345841479\n",
      "Test accuracy: 0.5780706117249199\n"
     ]
    }
   ],
   "source": [
    "rnn_score = rnn_model.evaluate(validation_x, validation_y, verbose=0)\n",
    "print('Test loss:', rnn_score[0])\n",
    "print('Test accuracy:', rnn_score[1])"
   ]
  },
  {
   "cell_type": "markdown",
   "metadata": {
    "_uuid": "bcf50003b4a5b32e36ebe10cc28b6294d53dd555"
   },
   "source": [
    "## CNN Model"
   ]
  },
  {
   "cell_type": "code",
   "execution_count": 25,
   "metadata": {
    "_uuid": "ac4515fd8962da5a8485a9511b35aec3d2ca3871"
   },
   "outputs": [
    {
     "name": "stdout",
     "output_type": "stream",
     "text": [
      "Train on 81638 samples, validate on 4022 samples\n",
      "Epoch 1/10\n",
      "81638/81638 [==============================] - 7s 82us/step - loss: 0.6979 - acc: 0.5159 - val_loss: 0.6930 - val_acc: 0.5109\n",
      "Epoch 2/10\n",
      "81638/81638 [==============================] - 6s 74us/step - loss: 0.6918 - acc: 0.5214 - val_loss: 0.6926 - val_acc: 0.5139\n",
      "Epoch 3/10\n",
      "81638/81638 [==============================] - 6s 74us/step - loss: 0.6913 - acc: 0.5266 - val_loss: 0.6932 - val_acc: 0.5102\n",
      "Epoch 4/10\n",
      "81638/81638 [==============================] - 7s 83us/step - loss: 0.6912 - acc: 0.5260 - val_loss: 0.6925 - val_acc: 0.5206\n",
      "Epoch 5/10\n",
      "81638/81638 [==============================] - 6s 78us/step - loss: 0.6910 - acc: 0.5264 - val_loss: 0.6933 - val_acc: 0.5045\n",
      "Epoch 6/10\n",
      "81638/81638 [==============================] - 6s 74us/step - loss: 0.6908 - acc: 0.5276 - val_loss: 0.6939 - val_acc: 0.5035\n",
      "Epoch 7/10\n",
      "81638/81638 [==============================] - 6s 73us/step - loss: 0.6905 - acc: 0.5302 - val_loss: 0.6933 - val_acc: 0.5042\n",
      "Epoch 8/10\n",
      "81638/81638 [==============================] - 6s 74us/step - loss: 0.6901 - acc: 0.5293 - val_loss: 0.6943 - val_acc: 0.5015\n",
      "Epoch 9/10\n",
      "81638/81638 [==============================] - 6s 74us/step - loss: 0.6897 - acc: 0.5316 - val_loss: 0.6968 - val_acc: 0.4978\n",
      "Epoch 10/10\n",
      "81638/81638 [==============================] - 6s 74us/step - loss: 0.6891 - acc: 0.5360 - val_loss: 0.6952 - val_acc: 0.5050\n"
     ]
    }
   ],
   "source": [
    "cnn_model = Sequential()\n",
    "\n",
    "cnn_model.add(Conv1D(128,3,input_shape=(train_x.shape[1:])))\n",
    "cnn_model.add(Activation('relu'))\n",
    "cnn_model.add(Dropout(0.2))\n",
    "cnn_model.add(MaxPooling1D(pool_size=2))\n",
    "\n",
    "cnn_model.add(Conv1D(128,3))\n",
    "cnn_model.add(Activation('relu'))\n",
    "cnn_model.add(Dropout(0.2))\n",
    "cnn_model.add(MaxPooling1D(pool_size=2))\n",
    "\n",
    "cnn_model.add(Conv1D(128,3))\n",
    "cnn_model.add(Activation('relu'))\n",
    "cnn_model.add(Dropout(0.2))\n",
    "cnn_model.add(MaxPooling1D(pool_size=2))\n",
    "\n",
    "cnn_model.add(Flatten())\n",
    "cnn_model.add(Dense(32))\n",
    "\n",
    "cnn_model.add(Dense(2, activation='softmax'))\n",
    "\n",
    "cnn_model.compile(loss='sparse_categorical_crossentropy',\n",
    "                  optimizer=opt,\n",
    "                  metrics=['accuracy'])\n",
    "\n",
    "cnn_history = cnn_model.fit(train_x, train_y,\n",
    "                    batch_size=BATCH_SIZE,\n",
    "                    epochs=EPOCHS,\n",
    "                    validation_data=(validation_x, validation_y))\n"
   ]
  },
  {
   "cell_type": "code",
   "execution_count": 26,
   "metadata": {
    "_uuid": "475dc659dd9e16685c95d9c962c2c746f097f4b4"
   },
   "outputs": [
    {
     "name": "stdout",
     "output_type": "stream",
     "text": [
      "Test loss: 0.6952022758364855\n",
      "Test accuracy: 0.5049726504226753\n"
     ]
    }
   ],
   "source": [
    "cnn_score = cnn_model.evaluate(validation_x, validation_y, verbose=0)\n",
    "print('Test loss:', cnn_score[0])\n",
    "print('Test accuracy:', cnn_score[1])"
   ]
  },
  {
   "cell_type": "code",
   "execution_count": 27,
   "metadata": {
    "_uuid": "bba2f9935415b8cca4dc1079038d379cc3d71ff7"
   },
   "outputs": [],
   "source": []
  }
 ],
 "metadata": {
  "kernelspec": {
   "display_name": "Python 3",
   "language": "python",
   "name": "python3"
  },
  "language_info": {
   "codemirror_mode": {
    "name": "ipython",
    "version": 3
   },
   "file_extension": ".py",
   "mimetype": "text/x-python",
   "name": "python",
   "nbconvert_exporter": "python",
   "pygments_lexer": "ipython3",
   "version": "3.6.6"
  }
 },
 "nbformat": 4,
 "nbformat_minor": 1
}
